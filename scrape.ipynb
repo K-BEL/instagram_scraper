{
 "cells": [
  {
   "cell_type": "code",
   "execution_count": null,
   "metadata": {},
   "outputs": [],
   "source": [
    "from selenium import webdriver\n",
    "from selenium.webdriver.chrome.service import Service\n",
    "from selenium.webdriver.common.by import By\n",
    "from webdriver_manager.chrome import ChromeDriverManager\n",
    "from selenium.webdriver.common.keys import Keys\n",
    "import time"
   ]
  },
  {
   "cell_type": "code",
   "execution_count": 9,
   "metadata": {},
   "outputs": [],
   "source": [
    "# Initialize WebDriver\n",
    "service = Service(executable_path=r'C:\\Users\\LENOVO\\Desktop\\instagram_scraper\\chromedriver.exe')  # Or use ChromeDriverManager for automatic management\n",
    "driver = webdriver.Chrome(service=service)\n",
    "\n",
    "# Open Instagram\n",
    "driver.get('https://www.instagram.com')"
   ]
  },
  {
   "cell_type": "code",
   "execution_count": 12,
   "metadata": {},
   "outputs": [],
   "source": [
    "# Wait for the page to load\n",
    "time.sleep(3)\n",
    "\n",
    "# Locate the username and password fields and the login button\n",
    "username_field = driver.find_element(By.XPATH, '//*[@id=\"loginForm\"]/div[1]/div[1]/div/label/input')\n",
    "password_field = driver.find_element(By.XPATH, '//*[@id=\"loginForm\"]/div[1]/div[2]/div/label/input')\n",
    "login_button = driver.find_element(By.XPATH, \"//*[@id='loginForm']/div[1]/div[3]\")\n",
    "\n",
    "# Enter your credentials\n",
    "username_field.send_keys(\"test\")  # Replace with your username\n",
    "password_field.send_keys(\"test\")  # Replace with your password\n",
    "\n",
    "# Click the login button\n",
    "login_button.click()\n",
    "\n",
    "# Wait for the login process to complete\n",
    "time.sleep(5)"
   ]
  }
 ],
 "metadata": {
  "kernelspec": {
   "display_name": "Python 3",
   "language": "python",
   "name": "python3"
  },
  "language_info": {
   "codemirror_mode": {
    "name": "ipython",
    "version": 3
   },
   "file_extension": ".py",
   "mimetype": "text/x-python",
   "name": "python",
   "nbconvert_exporter": "python",
   "pygments_lexer": "ipython3",
   "version": "3.9.5"
  }
 },
 "nbformat": 4,
 "nbformat_minor": 2
}
