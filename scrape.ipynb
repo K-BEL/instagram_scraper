{
 "cells": [
  {
   "cell_type": "code",
   "execution_count": null,
   "metadata": {},
   "outputs": [],
   "source": [
    "from selenium import webdriver\n",
    "from selenium.webdriver.chrome.service import Service\n",
    "from selenium.webdriver.common.by import By\n",
    "from webdriver_manager.chrome import ChromeDriverManager\n",
    "from selenium.webdriver.common.keys import Keys\n",
    "import time"
   ]
  },
  {
   "cell_type": "code",
   "execution_count": 46,
   "metadata": {},
   "outputs": [],
   "source": [
    "# Initialize WebDriver\n",
    "service = Service(executable_path=r'C:\\Users\\LENOVO\\Desktop\\instagram_scraper\\chromedriver.exe')  # Or use ChromeDriverManager for automatic management\n",
    "driver = webdriver.Chrome(service=service)\n",
    "\n",
    "# Open Instagram\n",
    "driver.get('https://www.instagram.com')"
   ]
  },
  {
   "cell_type": "code",
   "execution_count": 47,
   "metadata": {},
   "outputs": [],
   "source": [
    "# Wait for the page to load\n",
    "time.sleep(3)\n",
    "\n",
    "# Locate the username and password fields and the login button\n",
    "username_field = driver.find_element(By.XPATH, '//*[@id=\"loginForm\"]/div[1]/div[1]/div/label/input')\n",
    "password_field = driver.find_element(By.XPATH, '//*[@id=\"loginForm\"]/div[1]/div[2]/div/label/input')\n",
    "login_button = driver.find_element(By.XPATH, \"//*[@id='loginForm']/div[1]/div[3]\")\n",
    "\n",
    "# Enter your credentials\n",
    "username_field.send_keys(\"EMAIL\")  # Replace with your username\n",
    "password_field.send_keys(\"PASSWORD\")  # Replace with your password\n",
    "\n",
    "# Click the login button\n",
    "login_button.click()\n",
    "\n",
    "# Wait for the login process to complete\n",
    "time.sleep(5)"
   ]
  },
  {
   "cell_type": "code",
   "execution_count": 48,
   "metadata": {},
   "outputs": [
    {
     "name": "stdout",
     "output_type": "stream",
     "text": [
      "comment: تحفه تحفه تحفه بجد يا تيمو صوتك جميل و احساسك فوق الوصف 😢♥️♥️♥️♥️♥️ بحبك اوي\n",
      "comment: ❤️❤️❤️❤️❤️❤️❤️❤️❤️❤️❤️❤️❤️❤️\n",
      "comment: الله الله علي الجمال ف الأخلاق والجمال والحلاوة ف الفن ❤️❤️❤️❤️\n",
      "comment: كأنون أخوة..بتشبهوا بعض😍❤️\n",
      "comment: تحفه الف مبروك 👏👏❤️\n",
      "comment: ❤️❤️❤️❤️❤️❤️\n",
      "comment: الله عليكم ❤️👏🏻\n",
      "comment: بحبك يا فنان 😍😍\n",
      "comment: يا الله شو بحب تامر حسني😍😄\n"
     ]
    }
   ],
   "source": [
    "# Open the specific Instagram post\n",
    "post_url = 'https://www.instagram.com/reel/DEfWkNesVTp/?utm_source=ig_web_copy_link'  # Replace with the actual post link\n",
    "driver.get(post_url)\n",
    "\n",
    "\n",
    "comments = []\n",
    "\n",
    "# Loop through the indices to extract text comments\n",
    "for i in range(1, 10):  # Adjust the range as needed\n",
    "    test_xpath = f'/html/body/div[2]/div/div/div[2]/div/div/div[1]/div[1]/div[1]/section/main/div/div[1]/div/div[2]/div/div[2]/div/div[2]/div[{i}]/div[1]/div/div[2]/div[1]/div[1]/div/div[2]/span'\n",
    "    try:\n",
    "        test_element = driver.find_element(By.XPATH, test_xpath)\n",
    "        comments.append(test_element.text)  # Append the comment to the list\n",
    "        \n",
    "    except Exception as e:\n",
    "        print(f\"An error occurred: {e}\")\n",
    "\n",
    "# Print or store the extracted comments\n",
    "for comment in comments:\n",
    "    print('comment:', comment)"
   ]
  },
  {
   "cell_type": "code",
   "execution_count": null,
   "metadata": {
    "vscode": {
     "languageId": "ruby"
    }
   },
   "outputs": [],
   "source": []
  }
 ],
 "metadata": {
  "kernelspec": {
   "display_name": "Python 3",
   "language": "python",
   "name": "python3"
  },
  "language_info": {
   "codemirror_mode": {
    "name": "ipython",
    "version": 3
   },
   "file_extension": ".py",
   "mimetype": "text/x-python",
   "name": "python",
   "nbconvert_exporter": "python",
   "pygments_lexer": "ipython3",
   "version": "3.9.5"
  }
 },
 "nbformat": 4,
 "nbformat_minor": 2
}
